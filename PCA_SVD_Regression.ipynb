{
 "cells": [
  {
   "cell_type": "code",
   "execution_count": 8,
   "id": "8492a5a4",
   "metadata": {},
   "outputs": [],
   "source": [
    "#load in data\n",
    "import pandas as pd\n",
    "\n",
    "#ground truth\n",
    "gt_path = 'D:/datasets/soilHyperspec/train_data/train_data/train_gt.csv'\n",
    "\n",
    "#MaskedTransformed PCA Averaged data\n",
    "pca_mAv_path = r'C:\\Users\\oakle\\OneDrive - University of Lincoln\\uniProjects\\soil\\remote_sensing_hyperspectral_soil-main\\remote_sensing_hyperspectral_soil-main\\mAveragedPCAs.csv'\n",
    "\n",
    "#MaskedTransformed TruncatedSVD Averaged data\n",
    "svd_mAv_path = r'C:\\Users\\oakle\\OneDrive - University of Lincoln\\uniProjects\\soil\\remote_sensing_hyperspectral_soil-main\\remote_sensing_hyperspectral_soil-main\\mAveragedSVD.csv'\n",
    "\n",
    "gt_df = pd.read_csv(gt_path)\n",
    "pca_mAv_df = pd.read_csv(mAv_path,header=None).values\n",
    "svd_mAv_df = pd.read_csv(svd_mAv_path,header=None).values"
   ]
  },
  {
   "cell_type": "markdown",
   "id": "8e291989",
   "metadata": {},
   "source": [
    "## Fitting Regressors"
   ]
  },
  {
   "cell_type": "code",
   "execution_count": 4,
   "id": "d8185cce",
   "metadata": {},
   "outputs": [],
   "source": [
    "import numpy as np\n",
    "from sklearn.svm import SVR\n",
    "from sklearn.linear_model import LinearRegression\n",
    "from sklearn.neighbors import KNeighborsRegressor\n",
    "from sklearn.model_selection import train_test_split\n",
    "from sklearn.metrics import mean_squared_error\n",
    "from sklearn.gaussian_process import GaussianProcessRegressor\n",
    "\n",
    "depVars = ['P' , 'K', 'Mg', 'pH']\n",
    "\n",
    "\n",
    "#models\n",
    "def regressors(features):\n",
    "    lr = LinearRegression()\n",
    "    svr = SVR(C=1.0, epsilon=0.2, kernel = 'poly')\n",
    "    gpr = GaussianProcessRegressor()\n",
    "    knr = KNeighborsRegressor(weights = 'distance', n_neighbors = 3)\n",
    "\n",
    "    regressors = [lr, svr, gpr, knr]\n",
    "    regString = ['Linear Regression', 'Support Vector Regressor', 'Gaussian Process Regressor', 'K-Nearest Regressor']\n",
    "\n",
    "    #for each variable to predict\n",
    "    for i in range(0, len(depVars)):\n",
    "        y = gt_df[depVars[i]].values\n",
    "\n",
    "        #try out a different regressor\n",
    "        for r in range(0, len(regressors)):\n",
    "\n",
    "            #train/test split 70/30\n",
    "            X_train, X_test, y_train, y_test = train_test_split(features, y, test_size=0.3, random_state=30)\n",
    "\n",
    "\n",
    "            model = regressors[r]\n",
    "\n",
    "\n",
    "            model.fit(X_train, y_train)\n",
    "\n",
    "\n",
    "            y_pred = model.predict(X_test)\n",
    "\n",
    "\n",
    "\n",
    "            predictions = np.zeros_like(y_test)\n",
    "            mse = np.mean((y_test - y_pred) ** 2, axis=0)\n",
    "\n",
    "            print(depVars[i], regString[r], 'mse:',mse)\n",
    "        print()"
   ]
  },
  {
   "cell_type": "markdown",
   "id": "b8d05429",
   "metadata": {},
   "source": [
    "## Average PCA fit"
   ]
  },
  {
   "cell_type": "code",
   "execution_count": 9,
   "id": "bbd691b5",
   "metadata": {},
   "outputs": [
    {
     "name": "stdout",
     "output_type": "stream",
     "text": [
      "Average PCA values fitted to regressors:\n",
      "P Linear Regression mse: 901.0208668110034\n",
      "P Support Vector Regressor mse: 944.6564441485037\n",
      "P Gaussian Process Regressor mse: 5858.217491250066\n",
      "P K-Nearest Regressor mse: 1233.078582841769\n",
      "\n",
      "K Linear Regression mse: 4034.840917149956\n",
      "K Support Vector Regressor mse: 4149.549363279607\n",
      "K Gaussian Process Regressor mse: 55781.47357563792\n",
      "K K-Nearest Regressor mse: 4991.877768174437\n",
      "\n",
      "Mg Linear Regression mse: 1599.813488098176\n",
      "Mg Support Vector Regressor mse: 1592.9954452651775\n",
      "Mg Gaussian Process Regressor mse: 26201.30141708591\n",
      "Mg K-Nearest Regressor mse: 1899.1377056773729\n",
      "\n",
      "pH Linear Regression mse: 0.0655481243641423\n",
      "pH Support Vector Regressor mse: 0.06494162096137615\n",
      "pH Gaussian Process Regressor mse: 45.656665436568446\n",
      "pH K-Nearest Regressor mse: 0.07616023235186985\n",
      "\n"
     ]
    }
   ],
   "source": [
    "print('Average PCA values fitted to regressors:')\n",
    "regressors(pca_mAv_df)"
   ]
  },
  {
   "cell_type": "markdown",
   "id": "23b18ad2",
   "metadata": {},
   "source": [
    "## Average SVD fit"
   ]
  },
  {
   "cell_type": "code",
   "execution_count": 10,
   "id": "2d1dc63a",
   "metadata": {},
   "outputs": [
    {
     "name": "stdout",
     "output_type": "stream",
     "text": [
      "Average PCA values fitted to regressors:\n",
      "P Linear Regression mse: 900.9993201847466\n",
      "P Support Vector Regressor mse: 947.4834571257445\n",
      "P Gaussian Process Regressor mse: 5834.984863983891\n",
      "P K-Nearest Regressor mse: 1210.7723483089835\n",
      "\n",
      "K Linear Regression mse: 4035.52641329631\n",
      "K Support Vector Regressor mse: 4161.3436556147135\n",
      "K Gaussian Process Regressor mse: 55480.02358808652\n",
      "K K-Nearest Regressor mse: 4888.874124241744\n",
      "\n",
      "Mg Linear Regression mse: 1599.8110236545153\n",
      "Mg Support Vector Regressor mse: 1578.2313576849017\n",
      "Mg Gaussian Process Regressor mse: 26046.651310707042\n",
      "Mg K-Nearest Regressor mse: 1842.3689680113473\n",
      "\n",
      "pH Linear Regression mse: 0.06555113087324606\n",
      "pH Support Vector Regressor mse: 0.06511785874512944\n",
      "pH Gaussian Process Regressor mse: 45.35907881928534\n",
      "pH K-Nearest Regressor mse: 0.07636251838893009\n",
      "\n"
     ]
    }
   ],
   "source": [
    "print('Average PCA values fitted to regressors:')\n",
    "regressors(svd_mAv_df)"
   ]
  },
  {
   "cell_type": "code",
   "execution_count": null,
   "id": "85c6c99a",
   "metadata": {},
   "outputs": [],
   "source": []
  }
 ],
 "metadata": {
  "kernelspec": {
   "display_name": "Python 3",
   "language": "python",
   "name": "python3"
  },
  "language_info": {
   "codemirror_mode": {
    "name": "ipython",
    "version": 3
   },
   "file_extension": ".py",
   "mimetype": "text/x-python",
   "name": "python",
   "nbconvert_exporter": "python",
   "pygments_lexer": "ipython3",
   "version": "3.8.8"
  }
 },
 "nbformat": 4,
 "nbformat_minor": 5
}
