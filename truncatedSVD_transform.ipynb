{
 "cells": [
  {
   "cell_type": "markdown",
   "metadata": {
    "collapsed": true,
    "pycharm": {
     "name": "#%% md\n"
    }
   },
   "source": [
    "# Introduction\n",
    "How to open and understand the dataset"
   ]
  },
  {
   "cell_type": "code",
   "execution_count": 1,
   "metadata": {
    "pycharm": {
     "name": "#%%\n"
    }
   },
   "outputs": [],
   "source": [
    "import pandas as pd\n",
    "import numpy as np\n",
    "import matplotlib.pyplot as plt"
   ]
  },
  {
   "cell_type": "markdown",
   "metadata": {
    "pycharm": {
     "name": "#%% md\n"
    }
   },
   "source": [
    "## Basic information\n",
    "1. Hyperspectral data:\n",
    "    1. `hsi_path` contains path to hyperspectral masked numpy arrays containing hyperspectral data that underwent masking (i.e., the field area is masked, whereas all irrelevant areas are not masked)\n",
    "    2. The name of the file (e.g., _'1989.npz'_) refers to the index of the corresponding training sample in the ground-truth table.\n",
    "2. Ground-truth data:\n",
    "    1. `gt_path` contains path to ground truth .csv file.\n",
    "    2. Additionally, `wavelength_path` contains the mapping between a band number and the corresponding wavelength.\n"
   ]
  },
  {
   "cell_type": "code",
   "execution_count": 2,
   "metadata": {
    "pycharm": {
     "name": "#%%\n"
    }
   },
   "outputs": [],
   "source": [
    "hsi_path = 'D:/datasets/soilHyperspec/train_data/train_data/train_data/1500.npz'\n",
    "gt_path = 'D:/datasets/soilHyperspec/train_data/train_data/train_gt.csv'\n",
    "wavelength_path = 'D:/datasets/soilHyperspec/train_data/train_data/wavelengths.csv'"
   ]
  },
  {
   "cell_type": "code",
   "execution_count": 3,
   "metadata": {
    "pycharm": {
     "name": "#%%\n"
    }
   },
   "outputs": [],
   "source": [
    "gt_df = pd.read_csv(gt_path)\n",
    "wavelength_df = pd.read_csv(wavelength_path)"
   ]
  },
  {
   "cell_type": "markdown",
   "metadata": {},
   "source": [
    "# Inspect bands - All Images"
   ]
  },
  {
   "cell_type": "code",
   "execution_count": 5,
   "metadata": {},
   "outputs": [
    {
     "data": {
      "application/vnd.jupyter.widget-view+json": {
       "model_id": "77c2a5cd8e3e47ed9aad9d28519e0972",
       "version_major": 2,
       "version_minor": 0
      },
      "text/plain": [
       "  0%|          | 0/1732 [00:00<?, ?it/s]"
      ]
     },
     "metadata": {},
     "output_type": "display_data"
    }
   ],
   "source": [
    "from tqdm.notebook import tqdm\n",
    "\n",
    "#load in data, reshape and stack it\n",
    "for i in tqdm(range(0,1732)): #range(0,1732,10) for every 10nth\n",
    "    path = r\"D:/datasets/soilHyperspec/train_data/train_data/train_data/\" + str(i) + \".npz\"\n",
    "    with np.load(path) as npz:\n",
    "        arr = np.ma.MaskedArray(**npz)\n",
    "    \n",
    "    # here, we keep all the pixels\n",
    "    reshapeRatio = (arr.shape[1])*(arr.shape[2])\n",
    "    \n",
    "    # here we just want the mask region\n",
    "    newArrmasked = arr.reshape(150, reshapeRatio).transpose()\n",
    "    \n",
    "    if i == 0:\n",
    "        allImsM = newArrmasked\n",
    "    else:\n",
    "        allImsM = np.ma.vstack((allImsM,newArrmasked))\n",
    "    \n",
    "allImsM = pd.DataFrame(allImsM).dropna()"
   ]
  },
  {
   "cell_type": "markdown",
   "metadata": {},
   "source": [
    "# Dimensionality Reduction with TruncatedSVD"
   ]
  },
  {
   "cell_type": "code",
   "execution_count": 6,
   "metadata": {},
   "outputs": [
    {
     "data": {
      "text/plain": [
       "TruncatedSVD()"
      ]
     },
     "execution_count": 6,
     "metadata": {},
     "output_type": "execute_result"
    }
   ],
   "source": [
    "from sklearn.decomposition import TruncatedSVD\n",
    "svd = TruncatedSVD()\n",
    "svd.fit(allImsM)#fitting all masked images"
   ]
  },
  {
   "cell_type": "code",
   "execution_count": 7,
   "metadata": {},
   "outputs": [],
   "source": [
    "varRat = svd.explained_variance_ratio_"
   ]
  },
  {
   "cell_type": "code",
   "execution_count": 10,
   "metadata": {},
   "outputs": [
    {
     "data": {
      "text/plain": [
       "Text(0, 0.5, '% variance')"
      ]
     },
     "execution_count": 10,
     "metadata": {},
     "output_type": "execute_result"
    },
    {
     "data": {
      "image/png": "[encoded data removed]",
      "text/plain": [
       "<Figure size 432x288 with 1 Axes>"
      ]
     },
     "metadata": {
      "needs_background": "light"
     },
     "output_type": "display_data"
    }
   ],
   "source": [
    "#plot data variance ratio\n",
    "plt.figure()\n",
    "x = np.linspace(0,121)\n",
    "plt.plot(varRat,'blue')\n",
    "plt.title('Variance Ratio')\n",
    "\n",
    "#why graph flat? - incorrect code?\n",
    "plt.ylabel('% variance')"
   ]
  },
  {
   "cell_type": "code",
   "execution_count": 13,
   "metadata": {},
   "outputs": [
    {
     "data": {
      "text/plain": [
       "<matplotlib.legend.Legend at 0x1bfa2565640>"
      ]
     },
     "execution_count": 13,
     "metadata": {},
     "output_type": "execute_result"
    },
    {
     "data": {
      "image/png": "[encoded data removed]",
      "text/plain": [
       "<Figure size 432x288 with 1 Axes>"
      ]
     },
     "metadata": {
      "needs_background": "light"
     },
     "output_type": "display_data"
    }
   ],
   "source": [
    "plt.figure()\n",
    "plt.ylabel('% variance')\n",
    "plt.title('Variance Ratio [Zoomed]')\n",
    "plt.plot(varRat[:10],'blue')\n",
    "plt.yticks(np.arange(0, 1, 0.1))\n",
    "x = np.arange(2)\n",
    "plt.fill_between(\n",
    "        x,\n",
    "        varRat[:10],\n",
    "        color='blue',\n",
    "        alpha=0.5,\n",
    "        linewidth=0,\n",
    "        )\n",
    "plt.legend(['Masked Variance Capture'])"
   ]
  },
  {
   "cell_type": "code",
   "execution_count": 14,
   "metadata": {},
   "outputs": [
    {
     "name": "stdout",
     "output_type": "stream",
     "text": [
      "[0.908602 0.089781]\n"
     ]
    }
   ],
   "source": [
    "np.set_printoptions(formatter={'float_kind':'{:f}'.format})\n",
    "print(varRat)"
   ]
  },
  {
   "cell_type": "code",
   "execution_count": 15,
   "metadata": {},
   "outputs": [],
   "source": [
    "#transform\n",
    "#masked\n",
    "maskedRx = svd.transform(allImsM)\n"
   ]
  },
  {
   "cell_type": "code",
   "execution_count": 19,
   "metadata": {},
   "outputs": [
    {
     "name": "stdout",
     "output_type": "stream",
     "text": [
      "[[15148.873850 3883.658806]\n",
      " [14997.994562 3872.968809]\n",
      " [14778.616768 3478.550514]\n",
      " ...\n",
      " [12445.625411 2994.506961]\n",
      " [12270.708839 2882.427769]\n",
      " [12608.813645 2945.456377]]\n"
     ]
    }
   ],
   "source": [
    "np.set_printoptions(formatter={'float_kind':'{:f}'.format})\n",
    "\n",
    "print(maskedRx[:,:2])"
   ]
  },
  {
   "cell_type": "code",
   "execution_count": 20,
   "metadata": {},
   "outputs": [],
   "source": [
    "#save transformed array\n",
    "from numpy import savetxt\n",
    "savetxt('SVDmaskedRx.csv', maskedRx[:,:2], delimiter=',')"
   ]
  },
  {
   "cell_type": "code",
   "execution_count": null,
   "metadata": {},
   "outputs": [],
   "source": []
  }
 ],
 "metadata": {
  "kernelspec": {
   "display_name": "Python 3",
   "language": "python",
   "name": "python3"
  },
  "language_info": {
   "codemirror_mode": {
    "name": "ipython",
    "version": 3
   },
   "file_extension": ".py",
   "mimetype": "text/x-python",
   "name": "python",
   "nbconvert_exporter": "python",
   "pygments_lexer": "ipython3",
   "version": "3.8.8"
  },
  "toc": {
   "base_numbering": 1,
   "nav_menu": {},
   "number_sections": true,
   "sideBar": true,
   "skip_h1_title": false,
   "title_cell": "Table of Contents",
   "title_sidebar": "Contents",
   "toc_cell": false,
   "toc_position": {},
   "toc_section_display": true,
   "toc_window_display": true
  }
 },
 "nbformat": 4,
 "nbformat_minor": 1
}
